{
 "cells": [
  {
   "cell_type": "markdown",
   "metadata": {},
   "source": [
    "#### Imports"
   ]
  },
  {
   "cell_type": "code",
   "execution_count": 1,
   "metadata": {},
   "outputs": [],
   "source": [
    "# Show all Jupyter cell outputs, NOT just the last cell's output\n",
    "from IPython.core.interactiveshell import InteractiveShell\n",
    "InteractiveShell.ast_node_interactivity = \"all\"\n",
    "\n",
    "import matplotlib.pyplot as plt\n",
    "import seaborn as sns\n",
    "\n",
    "import pandas as pd\n",
    "import re\n",
    "import string\n",
    "from random import randint\n",
    "\n",
    "from nltk.stem.porter import PorterStemmer\n",
    "from nltk.corpus import stopwords\n",
    "from collections import Counter\n",
    "\n",
    "from sklearn.svm import SVC, LinearSVC\n",
    "from sklearn.linear_model import LogisticRegression\n",
    "from sklearn.preprocessing import LabelEncoder\n",
    "from sklearn.model_selection import train_test_split, cross_val_score\n",
    "from sklearn.feature_extraction.text import TfidfVectorizer, CountVectorizer\n",
    "from sklearn.metrics import confusion_matrix,classification_report\n",
    "from sklearn.linear_model import LogisticRegression\n",
    "from sklearn.metrics import confusion_matrix, classification_report,accuracy_score, recall_score, precision_score,f1_score\n"
   ]
  },
  {
   "cell_type": "markdown",
   "metadata": {},
   "source": [
    "#### 1. Reading Data from Excel \n",
    "#### 2. Label Encoding the Classes"
   ]
  },
  {
   "cell_type": "code",
   "execution_count": 2,
   "metadata": {},
   "outputs": [],
   "source": [
    "# Use pandas to pluck out abstracts\n",
    "posts = pd.read_excel('PostClassification.xlsx')\n"
   ]
  },
  {
   "cell_type": "code",
   "execution_count": 3,
   "metadata": {},
   "outputs": [],
   "source": [
    "posts['Xs'] =  posts.title +' '+ posts.content #creat new column 'Xs'\n",
    "posts['Y'] = LabelEncoder().fit(posts.Class.unique()).transform(posts.Class) #label encode\n",
    "\n",
    "posts = posts[['Xs','Y','Class']] # Drop 'title' and 'content'"
   ]
  },
  {
   "cell_type": "code",
   "execution_count": 4,
   "metadata": {},
   "outputs": [
    {
     "data": {
      "text/plain": [
       "Index(['Xs', 'Y', 'Class'], dtype='object')"
      ]
     },
     "execution_count": 4,
     "metadata": {},
     "output_type": "execute_result"
    },
    {
     "data": {
      "text/html": [
       "<div>\n",
       "<style scoped>\n",
       "    .dataframe tbody tr th:only-of-type {\n",
       "        vertical-align: middle;\n",
       "    }\n",
       "\n",
       "    .dataframe tbody tr th {\n",
       "        vertical-align: top;\n",
       "    }\n",
       "\n",
       "    .dataframe thead th {\n",
       "        text-align: right;\n",
       "    }\n",
       "</style>\n",
       "<table border=\"1\" class=\"dataframe\">\n",
       "  <thead>\n",
       "    <tr style=\"text-align: right;\">\n",
       "      <th></th>\n",
       "      <th>Xs</th>\n",
       "      <th>Y</th>\n",
       "      <th>Class</th>\n",
       "    </tr>\n",
       "  </thead>\n",
       "  <tbody>\n",
       "    <tr>\n",
       "      <th>3888</th>\n",
       "      <td>Desist from vengeful retribution : Emmerson Mn...</td>\n",
       "      <td>5</td>\n",
       "      <td>Politics</td>\n",
       "    </tr>\n",
       "    <tr>\n",
       "      <th>117</th>\n",
       "      <td>ZESCO owes Mozambican Power Company Over  Us$5...</td>\n",
       "      <td>0</td>\n",
       "      <td>Business</td>\n",
       "    </tr>\n",
       "    <tr>\n",
       "      <th>2778</th>\n",
       "      <td>M’membe Joins Politics  Defunct Post Newspaper...</td>\n",
       "      <td>5</td>\n",
       "      <td>Politics</td>\n",
       "    </tr>\n",
       "    <tr>\n",
       "      <th>461</th>\n",
       "      <td>Media owners to engage IBA over Prime TV suspe...</td>\n",
       "      <td>5</td>\n",
       "      <td>Politics</td>\n",
       "    </tr>\n",
       "    <tr>\n",
       "      <th>6244</th>\n",
       "      <td>T.B. Joshua declares his intentions to leave N...</td>\n",
       "      <td>6</td>\n",
       "      <td>Religion</td>\n",
       "    </tr>\n",
       "  </tbody>\n",
       "</table>\n",
       "</div>"
      ],
      "text/plain": [
       "                                                     Xs  Y     Class\n",
       "3888  Desist from vengeful retribution : Emmerson Mn...  5  Politics\n",
       "117   ZESCO owes Mozambican Power Company Over  Us$5...  0  Business\n",
       "2778  M’membe Joins Politics  Defunct Post Newspaper...  5  Politics\n",
       "461   Media owners to engage IBA over Prime TV suspe...  5  Politics\n",
       "6244  T.B. Joshua declares his intentions to leave N...  6  Religion"
      ]
     },
     "execution_count": 4,
     "metadata": {},
     "output_type": "execute_result"
    }
   ],
   "source": [
    "#inspect the dataframe\n",
    "posts.columns\n",
    "posts.sample(5)"
   ]
  },
  {
   "cell_type": "code",
   "execution_count": 5,
   "metadata": {},
   "outputs": [
    {
     "name": "stdout",
     "output_type": "stream",
     "text": [
      "There are a total of 6256 posts\n"
     ]
    },
    {
     "data": {
      "text/plain": [
       "'GBM has joined PF’s focus on fixing HH instead of national problems  Katuka UPND secretary general Steven Katuka says the party has noted with disbelief the continued focus by former party vice president GBM and PF secretary general Davies Mwila on insulting UPND leader Hakainde Hichilema at the expense of finding solutions to national development.In a statement, Katuka said his party was more focused on finding solutions to national challenges than personal attacks.“We have noted media reports widely quoting PF Secretary General Davies Mwila while others are quoting our former vice-President Geoffrey Bwalya Mwamba, now a PF member, all saying they want to dismantle the UPND and fix our party President Hakainde Hichilema. We hope our citizens, especially the youth and women, are all seeing what matters the most to the PF officials as opposed to development, education and health,” Katuka said.“President Hichilema gave a very respectable and dignified message of farewell to the former Vice President which has so far been well respected by the party structures and the country at large. President Hichilema realises that his friendship with Mr Mwamba went beyond politics and included families of both. That is why Mr Hichilema has been magnanimous by maintaining a respectable distance from the howling and bawling of GBM.”He said the UPND was focused on finding solutions to national challenges than on personal attacks.“While the PF manifesto and strategies are now that of dismantling the UPND and fixing Mr Hichilema, our party President and the UPND leadership will continue strategising on ending hunger and poverty in the country. That is cardinal and more urgent than ever before because it dwells on the survival of our people,” said Katuka.“The problems affecting our people is not Mr. Hichilema and as UPND we are more preoccupied in finding solutions to the PF created debt mountain, unpaid Zampost workers, Council workers, National Housing Authority employees, plus no money in people’s pockets, unreasonable taxes, corruption among top government officials, joblessness among youth, closure of CBU, unpaid farmers, among other issues that require strategising, than personal feuds based on character assassination. If by fixing Mr Hichilema and the UPND will address the economic challenges our citizens are facing, then as UPND, we wholeheartedly welcome the new PF manifesto of making President Hakainde Hichilema their favourite breakfast show topic and in doing so, let them be weary that they will not fool the people of Zambia.”'"
      ]
     },
     "execution_count": 5,
     "metadata": {},
     "output_type": "execute_result"
    }
   ],
   "source": [
    "\n",
    "post_content = posts.Xs\n",
    "print('There are a total of {} posts'.format(len(post_content)))\n",
    "\n",
    "index = randint(0,20)  #only inspect posts from the first 20 in the list\n",
    "post_content[index]"
   ]
  },
  {
   "cell_type": "markdown",
   "metadata": {},
   "source": [
    "#### Viewing the post distribution in relation to Classes"
   ]
  },
  {
   "cell_type": "code",
   "execution_count": 6,
   "metadata": {},
   "outputs": [
    {
     "data": {
      "text/plain": [
       "Class\n",
       "Business         1406\n",
       "Education         321\n",
       "Entertainment     368\n",
       "Health            289\n",
       "Lifestyle         800\n",
       "Politics         1986\n",
       "Religion          256\n",
       "Sports            830\n",
       "Name: Class, dtype: int64"
      ]
     },
     "execution_count": 6,
     "metadata": {},
     "output_type": "execute_result"
    },
    {
     "data": {
      "text/plain": [
       "<matplotlib.axes._subplots.AxesSubplot at 0x28396260908>"
      ]
     },
     "execution_count": 6,
     "metadata": {},
     "output_type": "execute_result"
    },
    {
     "data": {
      "image/png": "[encoded data removed]",
      "text/plain": [
       "<Figure size 432x288 with 1 Axes>"
      ]
     },
     "metadata": {
      "needs_background": "light"
     },
     "output_type": "display_data"
    }
   ],
   "source": [
    "#inspecting the distribution of comments\n",
    "posts.groupby('Class').Class.count()\n",
    "posts.groupby('Class').Class.count().plot.barh()"
   ]
  },
  {
   "cell_type": "markdown",
   "metadata": {},
   "source": [
    "#### Cleaning the posts\n",
    "##### 1. drop NaN records\n",
    "##### 2. make all words into lower case\n",
    "##### 3. remove punctuations and numbers\n",
    "##### 4. remove stopwords\n",
    "##### 5. stemming"
   ]
  },
  {
   "cell_type": "code",
   "execution_count": 7,
   "metadata": {},
   "outputs": [],
   "source": [
    "\n",
    "# 2. Case Folding\n",
    "# Good idea to implement a function here [...]\n",
    "\n",
    "def func_post_case_folding(contentText):\n",
    "    return contentText.lower()\n",
    "\n",
    "# 3. Punctuation\n",
    "# Function for removing punctuations from string of text\n",
    "def func_post_punctuation(contentText):\n",
    "    \n",
    "    #replace special charactors with ' '\n",
    "    contentText_out = re.sub('[^\\w\\s]', ' ',contentText)\n",
    "    contentText_out = re.sub('_', '',contentText_out)\n",
    "    \n",
    "    #change any whitespace to one space\n",
    "    contentText_out = re.sub('\\s+', ' ',contentText_out)\n",
    "    \n",
    "    #remove start and end whitespaces\n",
    "    contentText_out = contentText_out.strip()\n",
    "    \n",
    "    contentText_out = re.sub('\\w*\\d\\w*', '', contentText_out) # replace digits\n",
    "    return contentText_out\n",
    "\n",
    "# 4. Stopwords\n",
    "# Function for removing stopwords from string of text\n",
    "def func_post_stopwords(contentText_in):\n",
    "    \n",
    "    contentText_out = \" \".join([\n",
    "        contentText_word for contentText_word in contentText_in.split() \n",
    "        if contentText_word not in stopwords.words('english')\n",
    "    ])\n",
    "    return contentText_out\n",
    "\n",
    "# 5. Stemming\n",
    "# Function for removing stopwords from string of text\n",
    "# Remember: input will be chunck of text\n",
    "def func_post_stem(contentText):\n",
    "    var_stemmer = PorterStemmer()\n",
    "    contentText_out = \" \".join([\n",
    "        var_stemmer.stem(contentText_word) for contentText_word in contentText.split() \n",
    "    ])\n",
    "    return contentText_out\n",
    "\n",
    "# 6. form the corpus\n",
    "\n",
    "def func_get_all_words(content_list):\n",
    "    all_words = []\n",
    "    for item in content_list:\n",
    "        for n in item.split():\n",
    "            all_words.append(n)\n",
    "    return all_words\n",
    "        \n",
    "\n",
    "# 7. Term Frequency \n",
    "\n",
    "def func_tf_transform(all_words_list,clean_content_list):\n",
    "    var_transformed_dataset = []\n",
    "    for item in clean_content_list:\n",
    "        #print (var_etd_entry)\n",
    "        var_dataset = []\n",
    "        var_tokens = item.split()\n",
    "        for x in all_words_list:\n",
    "            #print (var_dictionary_entry)\n",
    "            var_dataset.append(var_tokens.count(x[0]))\n",
    "        var_transformed_dataset.append(var_dataset)\n",
    "    return var_transformed_dataset\n",
    "\n",
    "\n",
    "# function for functions to carry out step 2 to 5\n",
    "# Function for removing stopwords from string of text\n",
    "\n",
    "def func_clean_posts(content_list):\n",
    "    \n",
    "    temp_list = []\n",
    "    for item in content_list:\n",
    "        itemOut = func_post_case_folding(item)\n",
    "        itemOut = func_post_punctuation(itemOut)\n",
    "        itemOut = func_post_stopwords(itemOut)\n",
    "        itemOut = func_post_stem(itemOut)\n",
    "        \n",
    "        temp_list.append(itemOut)\n",
    "        \n",
    "    return temp_list\n"
   ]
  },
  {
   "cell_type": "code",
   "execution_count": 8,
   "metadata": {},
   "outputs": [],
   "source": [
    "post_content.dropna(inplace= True)\n",
    "post_content_list = list(post_content)"
   ]
  },
  {
   "cell_type": "code",
   "execution_count": 9,
   "metadata": {},
   "outputs": [],
   "source": [
    "#for the pusrpose of demostration, we will only clean 20 posts\n",
    "clean_post_content_list = func_clean_posts(post_content_list[:20])"
   ]
  },
  {
   "cell_type": "code",
   "execution_count": 10,
   "metadata": {},
   "outputs": [
    {
     "data": {
      "text/plain": [
       "'gbm join pf focu fix hh instead nation problem katuka upnd secretari gener steven katuka say parti note disbelief continu focu former parti vice presid gbm pf secretari gener davi mwila insult upnd leader hakaind hichilema expens find solut nation develop statement katuka said parti focus find solut nation challeng person attack note media report wide quot pf secretari gener davi mwila other quot former vice presid geoffrey bwalya mwamba pf member say want dismantl upnd fix parti presid hakaind hichilema hope citizen especi youth women see matter pf offici oppos develop educ health katuka said presid hichilema gave respect dignifi messag farewel former vice presid far well respect parti structur countri larg presid hichilema realis friendship mr mwamba went beyond polit includ famili mr hichilema magnanim maintain respect distanc howl bawl gbm said upnd focus find solut nation challeng person attack pf manifesto strategi dismantl upnd fix mr hichilema parti presid upnd leadership continu strategis end hunger poverti countri cardin urgent ever dwell surviv peopl said katuka problem affect peopl mr hichilema upnd preoccupi find solut pf creat debt mountain unpaid zampost worker council worker nation hous author employe plu money peopl pocket unreason tax corrupt among top govern offici jobless among youth closur cbu unpaid farmer among issu requir strategis person feud base charact assassin fix mr hichilema upnd address econom challeng citizen face upnd wholeheartedli welcom new pf manifesto make presid hakaind hichilema favourit breakfast show topic let weari fool peopl zambia'"
      ]
     },
     "execution_count": 10,
     "metadata": {},
     "output_type": "execute_result"
    }
   ],
   "source": [
    "clean_post_content_list[index]"
   ]
  },
  {
   "cell_type": "code",
   "execution_count": 11,
   "metadata": {},
   "outputs": [
    {
     "data": {
      "text/plain": [
       "2563"
      ]
     },
     "execution_count": 11,
     "metadata": {},
     "output_type": "execute_result"
    },
    {
     "data": {
      "text/plain": [
       "1602"
      ]
     },
     "execution_count": 11,
     "metadata": {},
     "output_type": "execute_result"
    }
   ],
   "source": [
    "#Check the length of the post before and after text cleaning.\n",
    "len(post_content[index])\n",
    "len(clean_post_content_list[index])"
   ]
  },
  {
   "cell_type": "markdown",
   "metadata": {},
   "source": [
    "#### Save the clean posts to Excel\n",
    "######  Cleaning the 6256 posts takes time, hence the need to save the cleaned posts"
   ]
  },
  {
   "cell_type": "code",
   "execution_count": 12,
   "metadata": {},
   "outputs": [],
   "source": [
    "# cleanPosts = posts\n",
    "# cleanPosts.Xs = clean_post_content_list\n",
    "# cleanPosts.to_excel('cleanPostClassification_no_numerics.xlsx')"
   ]
  },
  {
   "cell_type": "markdown",
   "metadata": {},
   "source": [
    "#### Load the cleaned data from the excel"
   ]
  },
  {
   "cell_type": "code",
   "execution_count": 13,
   "metadata": {},
   "outputs": [],
   "source": [
    "cleanPosts = pd.read_excel('cleanPostClassification.xlsx')\n",
    "clean_post_content_list = list(cleanPosts.Xs)"
   ]
  },
  {
   "cell_type": "code",
   "execution_count": 14,
   "metadata": {},
   "outputs": [
    {
     "data": {
      "text/html": [
       "<div>\n",
       "<style scoped>\n",
       "    .dataframe tbody tr th:only-of-type {\n",
       "        vertical-align: middle;\n",
       "    }\n",
       "\n",
       "    .dataframe tbody tr th {\n",
       "        vertical-align: top;\n",
       "    }\n",
       "\n",
       "    .dataframe thead th {\n",
       "        text-align: right;\n",
       "    }\n",
       "</style>\n",
       "<table border=\"1\" class=\"dataframe\">\n",
       "  <thead>\n",
       "    <tr style=\"text-align: right;\">\n",
       "      <th></th>\n",
       "      <th>Xs</th>\n",
       "      <th>Y</th>\n",
       "      <th>Class</th>\n",
       "    </tr>\n",
       "  </thead>\n",
       "  <tbody>\n",
       "    <tr>\n",
       "      <th>6068</th>\n",
       "      <td>cholera case rise hungri lion reopen zambia re...</td>\n",
       "      <td>3</td>\n",
       "      <td>Health</td>\n",
       "    </tr>\n",
       "    <tr>\n",
       "      <th>3185</th>\n",
       "      <td>letter lungu open unza cbu open unza cbuto rep...</td>\n",
       "      <td>1</td>\n",
       "      <td>Education</td>\n",
       "    </tr>\n",
       "    <tr>\n",
       "      <th>338</th>\n",
       "      <td>tb joshua fed issu stern warn handl elect b jo...</td>\n",
       "      <td>6</td>\n",
       "      <td>Religion</td>\n",
       "    </tr>\n",
       "  </tbody>\n",
       "</table>\n",
       "</div>"
      ],
      "text/plain": [
       "                                                     Xs  Y      Class\n",
       "6068  cholera case rise hungri lion reopen zambia re...  3     Health\n",
       "3185  letter lungu open unza cbu open unza cbuto rep...  1  Education\n",
       "338   tb joshua fed issu stern warn handl elect b jo...  6   Religion"
      ]
     },
     "execution_count": 14,
     "metadata": {},
     "output_type": "execute_result"
    }
   ],
   "source": [
    "cleanPosts.sample(3)  #Sampling the imported clean texts."
   ]
  },
  {
   "cell_type": "code",
   "execution_count": 15,
   "metadata": {},
   "outputs": [
    {
     "data": {
      "text/plain": [
       "[('zambia', 11686),\n",
       " ('said', 11239),\n",
       " ('govern', 7967),\n",
       " ('presid', 7480),\n",
       " ('peopl', 7316),\n",
       " ('countri', 6214),\n",
       " ('say', 5836),\n",
       " ('year', 5674),\n",
       " ('one', 5640),\n",
       " ('zambian', 5590)]"
      ]
     },
     "execution_count": 15,
     "metadata": {},
     "output_type": "execute_result"
    }
   ],
   "source": [
    "#checking the frequence of the most common top 20 words\n",
    "Counter(func_get_all_words(clean_post_content_list)).most_common(10)"
   ]
  },
  {
   "cell_type": "markdown",
   "metadata": {},
   "source": [
    "#### Labels and  Feature extraction"
   ]
  },
  {
   "cell_type": "code",
   "execution_count": 16,
   "metadata": {},
   "outputs": [
    {
     "data": {
      "text/html": [
       "<div>\n",
       "<style scoped>\n",
       "    .dataframe tbody tr th:only-of-type {\n",
       "        vertical-align: middle;\n",
       "    }\n",
       "\n",
       "    .dataframe tbody tr th {\n",
       "        vertical-align: top;\n",
       "    }\n",
       "\n",
       "    .dataframe thead th {\n",
       "        text-align: right;\n",
       "    }\n",
       "</style>\n",
       "<table border=\"1\" class=\"dataframe\">\n",
       "  <thead>\n",
       "    <tr style=\"text-align: right;\">\n",
       "      <th></th>\n",
       "      <th>Class</th>\n",
       "      <th>Y</th>\n",
       "    </tr>\n",
       "  </thead>\n",
       "  <tbody>\n",
       "    <tr>\n",
       "      <th>0</th>\n",
       "      <td>Business</td>\n",
       "      <td>0</td>\n",
       "    </tr>\n",
       "    <tr>\n",
       "      <th>1</th>\n",
       "      <td>Education</td>\n",
       "      <td>1</td>\n",
       "    </tr>\n",
       "    <tr>\n",
       "      <th>2</th>\n",
       "      <td>Entertainment</td>\n",
       "      <td>2</td>\n",
       "    </tr>\n",
       "    <tr>\n",
       "      <th>3</th>\n",
       "      <td>Health</td>\n",
       "      <td>3</td>\n",
       "    </tr>\n",
       "    <tr>\n",
       "      <th>4</th>\n",
       "      <td>Lifestyle</td>\n",
       "      <td>4</td>\n",
       "    </tr>\n",
       "    <tr>\n",
       "      <th>5</th>\n",
       "      <td>Politics</td>\n",
       "      <td>5</td>\n",
       "    </tr>\n",
       "    <tr>\n",
       "      <th>6</th>\n",
       "      <td>Religion</td>\n",
       "      <td>6</td>\n",
       "    </tr>\n",
       "    <tr>\n",
       "      <th>7</th>\n",
       "      <td>Sports</td>\n",
       "      <td>7</td>\n",
       "    </tr>\n",
       "  </tbody>\n",
       "</table>\n",
       "</div>"
      ],
      "text/plain": [
       "           Class  Y\n",
       "0       Business  0\n",
       "1      Education  1\n",
       "2  Entertainment  2\n",
       "3         Health  3\n",
       "4      Lifestyle  4\n",
       "5       Politics  5\n",
       "6       Religion  6\n",
       "7         Sports  7"
      ]
     },
     "execution_count": 16,
     "metadata": {},
     "output_type": "execute_result"
    }
   ],
   "source": [
    "# generates a dataframe of the mapping between Class and labels(Y)\n",
    "\n",
    "Label_class_df = cleanPosts[['Class', 'Y']].drop_duplicates().sort_values('Y').reset_index().drop(columns='index')\n",
    "Label_class_df"
   ]
  },
  {
   "cell_type": "code",
   "execution_count": 17,
   "metadata": {},
   "outputs": [
    {
     "data": {
      "text/plain": [
       "TfidfVectorizer(analyzer='word', binary=False, decode_error='strict',\n",
       "                dtype=<class 'numpy.float64'>, encoding='utf-8',\n",
       "                input='content', lowercase=True, max_df=1.0, max_features=None,\n",
       "                min_df=1, ngram_range=(1, 1), norm='l2', preprocessor=None,\n",
       "                smooth_idf=True, stop_words=None, strip_accents=None,\n",
       "                sublinear_tf=False, token_pattern='(?u)\\\\b\\\\w\\\\w+\\\\b',\n",
       "                tokenizer=None, use_idf=True, vocabulary=None)"
      ]
     },
     "execution_count": 17,
     "metadata": {},
     "output_type": "execute_result"
    }
   ],
   "source": [
    "#Learning the vocabulary\n",
    "\n",
    "# vectorizer = CountVectorizer()\n",
    "vectorizer = TfidfVectorizer()\n",
    "vectorizer.fit(clean_post_content_list)"
   ]
  },
  {
   "cell_type": "code",
   "execution_count": 18,
   "metadata": {},
   "outputs": [],
   "source": [
    "#getting the tf-idf features and feature names\n",
    "\n",
    "features = vectorizer.transform(clean_post_content_list)\n",
    "features_columns = vectorizer.get_feature_names()"
   ]
  },
  {
   "cell_type": "code",
   "execution_count": 19,
   "metadata": {},
   "outputs": [
    {
     "data": {
      "text/plain": [
       "(6255, 38389)"
      ]
     },
     "execution_count": 19,
     "metadata": {},
     "output_type": "execute_result"
    }
   ],
   "source": [
    "#create a pandas dataframe\n",
    "\n",
    "features_df = pd.DataFrame(features.toarray(), columns = features_columns)\n",
    "features_df.shape"
   ]
  },
  {
   "cell_type": "code",
   "execution_count": 20,
   "metadata": {},
   "outputs": [
    {
     "data": {
      "text/plain": [
       "5004"
      ]
     },
     "execution_count": 20,
     "metadata": {},
     "output_type": "execute_result"
    },
    {
     "data": {
      "text/plain": [
       "1251"
      ]
     },
     "execution_count": 20,
     "metadata": {},
     "output_type": "execute_result"
    }
   ],
   "source": [
    "#train_test_split?\n",
    "x_train, x_test, y_train, y_test = train_test_split(features_df, cleanPosts['Y'], test_size=0.20)\n",
    "len(x_train)\n",
    "len(x_test)"
   ]
  },
  {
   "cell_type": "code",
   "execution_count": 21,
   "metadata": {},
   "outputs": [
    {
     "data": {
      "text/plain": [
       "LinearSVC(C=1.0, class_weight=None, dual=True, fit_intercept=True,\n",
       "          intercept_scaling=1, loss='squared_hinge', max_iter=1000,\n",
       "          multi_class='ovr', penalty='l2', random_state=None, tol=0.0001,\n",
       "          verbose=0)"
      ]
     },
     "execution_count": 21,
     "metadata": {},
     "output_type": "execute_result"
    }
   ],
   "source": [
    "# Performing CV to tune parameters for best SVM fit\n",
    "model = LinearSVC()\n",
    "# model = LogisticRegression(multi_class= 'auto')\n",
    "model.fit(x_train, y_train)"
   ]
  },
  {
   "cell_type": "code",
   "execution_count": 22,
   "metadata": {},
   "outputs": [
    {
     "data": {
      "text/plain": [
       "0.8321342925659473"
      ]
     },
     "execution_count": 22,
     "metadata": {},
     "output_type": "execute_result"
    }
   ],
   "source": [
    "model.score(x_test, y_test)\n",
    "y_pred = model.predict(x_test)"
   ]
  },
  {
   "cell_type": "code",
   "execution_count": 23,
   "metadata": {},
   "outputs": [
    {
     "data": {
      "text/plain": [
       "<matplotlib.axes._subplots.AxesSubplot at 0x2839a754c50>"
      ]
     },
     "execution_count": 23,
     "metadata": {},
     "output_type": "execute_result"
    },
    {
     "data": {
      "text/plain": [
       "Text(33.0, 0.5, 'Actual')"
      ]
     },
     "execution_count": 23,
     "metadata": {},
     "output_type": "execute_result"
    },
    {
     "data": {
      "text/plain": [
       "Text(0.5, 15.0, 'Predicted')"
      ]
     },
     "execution_count": 23,
     "metadata": {},
     "output_type": "execute_result"
    },
    {
     "data": {
      "image/png": "[encoded data removed]",
      "text/plain": [
       "<Figure size 432x288 with 2 Axes>"
      ]
     },
     "metadata": {
      "needs_background": "light"
     },
     "output_type": "display_data"
    }
   ],
   "source": [
    "# creating the confusion matrix\n",
    "\n",
    "conf_mat = confusion_matrix(y_test, y_pred)\n",
    "sns.heatmap(conf_mat, annot=True, fmt='d',\n",
    "            xticklabels=Label_class_df.Class.values, yticklabels=Label_class_df.Class.values)\n",
    "plt.ylabel('Actual')\n",
    "plt.xlabel('Predicted')"
   ]
  },
  {
   "cell_type": "code",
   "execution_count": 24,
   "metadata": {},
   "outputs": [
    {
     "name": "stdout",
     "output_type": "stream",
     "text": [
      "               precision    recall  f1-score   support\n",
      "\n",
      "     Business       0.83      0.85      0.84       298\n",
      "    Education       0.84      0.85      0.84        60\n",
      "Entertainment       0.73      0.66      0.69        67\n",
      "       Health       0.79      0.75      0.77        64\n",
      "    Lifestyle       0.78      0.80      0.79       152\n",
      "     Politics       0.82      0.83      0.83       410\n",
      "     Religion       0.89      0.75      0.81        55\n",
      "       Sports       0.97      0.97      0.97       145\n",
      "\n",
      "     accuracy                           0.83      1251\n",
      "    macro avg       0.83      0.81      0.82      1251\n",
      " weighted avg       0.83      0.83      0.83      1251\n",
      "\n"
     ]
    }
   ],
   "source": [
    "print(classification_report(y_test, y_pred,target_names= Label_class_df.Class.values ))\n"
   ]
  },
  {
   "cell_type": "code",
   "execution_count": 25,
   "metadata": {},
   "outputs": [
    {
     "name": "stdout",
     "output_type": "stream",
     "text": [
      "[0.82006369 0.81180223 0.7814992  0.79744817 0.8245614  0.86421725\n",
      " 0.86858974 0.81730769 0.82182986 0.77813505]\n"
     ]
    }
   ],
   "source": [
    "# Use cross_val_score function\n",
    "# We are passing the entirety of X and y, not X_train or y_train, it takes care of splitting the dat\n",
    "# cv=10 for 10 folds\n",
    "# scoring='accuracy' for evaluation metric - althought they are many\n",
    "scores = cross_val_score(model,features_df, cleanPosts['Y'], cv=10, scoring='accuracy')\n",
    "print(scores)"
   ]
  },
  {
   "cell_type": "code",
   "execution_count": 27,
   "metadata": {},
   "outputs": [
    {
     "name": "stdout",
     "output_type": "stream",
     "text": [
      "The Cross-validation score is 0.818545429111504\n"
     ]
    }
   ],
   "source": [
    "print('The Cross-validation score is {}'.format(scores.mean()))"
   ]
  },
  {
   "cell_type": "code",
   "execution_count": null,
   "metadata": {},
   "outputs": [],
   "source": []
  }
 ],
 "metadata": {
  "kernelspec": {
   "display_name": "Python 3",
   "language": "python",
   "name": "python3"
  },
  "language_info": {
   "codemirror_mode": {
    "name": "ipython",
    "version": 3
   },
   "file_extension": ".py",
   "mimetype": "text/x-python",
   "name": "python",
   "nbconvert_exporter": "python",
   "pygments_lexer": "ipython3",
   "version": "3.7.3"
  }
 },
 "nbformat": 4,
 "nbformat_minor": 2
}
