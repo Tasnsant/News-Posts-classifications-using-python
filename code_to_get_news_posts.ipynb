{
 "cells": [
  {
   "cell_type": "code",
   "execution_count": 1,
   "metadata": {},
   "outputs": [],
   "source": [
    "# Show all Jupyter cell outputs, NOT just the last cell's output\n",
    "from IPython.core.interactiveshell import InteractiveShell\n",
    "InteractiveShell.ast_node_interactivity = \"all\"\n",
    "\n",
    "\n",
    "import pandas as pd\n",
    "import requests, json \n",
    "from bs4 import BeautifulSoup as soup\n"
   ]
  },
  {
   "cell_type": "markdown",
   "metadata": {},
   "source": [
    "#####                   Getting posts from website(s) and load into a pandas dataframe\n",
    "       1. n_pages specifies the number of pages to be queried. one page contains 10 posts\n",
    "       2. Uncomment only one Web-page you want to collect information from"
   ]
  },
  {
   "cell_type": "code",
   "execution_count": 2,
   "metadata": {},
   "outputs": [
    {
     "name": "stdout",
     "output_type": "stream",
     "text": [
      "1\n",
      "2\n",
      "3\n",
      "4\n",
      "5\n",
      "6\n",
      "7\n",
      "8\n",
      "9\n",
      "10\n"
     ]
    }
   ],
   "source": [
    "# web_page = \"https://www.mwebantu.news\"\n",
    "# web_page = \"https://www.lusakatimes.com\"\n",
    "# web_page = \"https://www.zambiawatchdog.com\"\n",
    "# web_page = \"https://zambianeye.com\"\n",
    "web_page = \"https://www.zambianobserver.com\"\n",
    "\n",
    "n_pages = 10 #only get 10 pages for demonstration\n",
    "\n",
    "data = pd.DataFrame({})\n",
    "for i in range(1,n_pages+1):\n",
    "    url= web_page+\"/wp-json/wp/v2/posts?page=\"+str(i)\n",
    "#     url= web_page+\"/wp-json/wp/v2/categories?page=\"+str(i)\n",
    "    r = requests.get(url)\n",
    "    data = pd.concat([data,pd.DataFrame(r.json())],ignore_index=True, sort=False)\n",
    "    print(i)"
   ]
  },
  {
   "cell_type": "markdown",
   "metadata": {},
   "source": [
    "###### The code in the next cell will be used to load data from Excell\n",
    "        for normal execution, kindly comment it"
   ]
  },
  {
   "cell_type": "code",
   "execution_count": 3,
   "metadata": {},
   "outputs": [],
   "source": [
    "# data = pd.read_excel('mwebantu_posts.xlsx')"
   ]
  },
  {
   "cell_type": "code",
   "execution_count": 4,
   "metadata": {},
   "outputs": [
    {
     "data": {
      "text/plain": [
       "Index(['_links', 'amp_validity', 'author', 'categories', 'comment_status',\n",
       "       'content', 'date', 'date_gmt', 'excerpt', 'featured_media', 'format',\n",
       "       'guid', 'id', 'jetpack_featured_media_url',\n",
       "       'jetpack_publicize_connections', 'jetpack_shortlink', 'link', 'meta',\n",
       "       'modified', 'modified_gmt', 'ping_status', 'slug', 'status', 'sticky',\n",
       "       'tags', 'template', 'title', 'type'],\n",
       "      dtype='object')"
      ]
     },
     "execution_count": 4,
     "metadata": {},
     "output_type": "execute_result"
    },
    {
     "data": {
      "text/html": [
       "<div>\n",
       "<style scoped>\n",
       "    .dataframe tbody tr th:only-of-type {\n",
       "        vertical-align: middle;\n",
       "    }\n",
       "\n",
       "    .dataframe tbody tr th {\n",
       "        vertical-align: top;\n",
       "    }\n",
       "\n",
       "    .dataframe thead th {\n",
       "        text-align: right;\n",
       "    }\n",
       "</style>\n",
       "<table border=\"1\" class=\"dataframe\">\n",
       "  <thead>\n",
       "    <tr style=\"text-align: right;\">\n",
       "      <th></th>\n",
       "      <th>_links</th>\n",
       "      <th>amp_validity</th>\n",
       "      <th>author</th>\n",
       "      <th>categories</th>\n",
       "      <th>comment_status</th>\n",
       "      <th>content</th>\n",
       "      <th>date</th>\n",
       "      <th>date_gmt</th>\n",
       "      <th>excerpt</th>\n",
       "      <th>featured_media</th>\n",
       "      <th>...</th>\n",
       "      <th>modified</th>\n",
       "      <th>modified_gmt</th>\n",
       "      <th>ping_status</th>\n",
       "      <th>slug</th>\n",
       "      <th>status</th>\n",
       "      <th>sticky</th>\n",
       "      <th>tags</th>\n",
       "      <th>template</th>\n",
       "      <th>title</th>\n",
       "      <th>type</th>\n",
       "    </tr>\n",
       "  </thead>\n",
       "  <tbody>\n",
       "    <tr>\n",
       "      <th>59</th>\n",
       "      <td>{'self': [{'href': 'https://www.zambianobserve...</td>\n",
       "      <td>None</td>\n",
       "      <td>1</td>\n",
       "      <td>[2, 12, 10, 14]</td>\n",
       "      <td>open</td>\n",
       "      <td>{'rendered': '&lt;p&gt;Gears Initiatives Zambia has ...</td>\n",
       "      <td>2019-05-27T13:45:57</td>\n",
       "      <td>2019-05-27T11:45:57</td>\n",
       "      <td>{'rendered': '&lt;p&gt;Gears Initiatives Zambia has ...</td>\n",
       "      <td>2305</td>\n",
       "      <td>...</td>\n",
       "      <td>2019-05-27T13:46:17</td>\n",
       "      <td>2019-05-27T11:46:17</td>\n",
       "      <td>open</td>\n",
       "      <td>ecz-called-upon-to-quickly-announce-dates-for-...</td>\n",
       "      <td>publish</td>\n",
       "      <td>False</td>\n",
       "      <td>[]</td>\n",
       "      <td></td>\n",
       "      <td>{'rendered': 'ECZ called upon to quickly annou...</td>\n",
       "      <td>post</td>\n",
       "    </tr>\n",
       "    <tr>\n",
       "      <th>52</th>\n",
       "      <td>{'self': [{'href': 'https://www.zambianobserve...</td>\n",
       "      <td>None</td>\n",
       "      <td>1</td>\n",
       "      <td>[2, 12, 10, 14]</td>\n",
       "      <td>open</td>\n",
       "      <td>{'rendered': '&lt;p&gt;&amp;nbsp;&lt;/p&gt;\n",
       "&lt;p&gt;UPND Youths cou...</td>\n",
       "      <td>2019-05-27T13:51:05</td>\n",
       "      <td>2019-05-27T11:51:05</td>\n",
       "      <td>{'rendered': '&lt;p&gt;&amp;nbsp; UPND Youths country wi...</td>\n",
       "      <td>200505</td>\n",
       "      <td>...</td>\n",
       "      <td>2019-05-27T13:51:05</td>\n",
       "      <td>2019-05-27T11:51:05</td>\n",
       "      <td>open</td>\n",
       "      <td>pf-tell-gbm-they-dont-want-him-with-his-vulgar...</td>\n",
       "      <td>publish</td>\n",
       "      <td>False</td>\n",
       "      <td>[]</td>\n",
       "      <td></td>\n",
       "      <td>{'rendered': 'PF Tell GBM They Don’t Want Him ...</td>\n",
       "      <td>post</td>\n",
       "    </tr>\n",
       "    <tr>\n",
       "      <th>22</th>\n",
       "      <td>{'self': [{'href': 'https://www.zambianobserve...</td>\n",
       "      <td>None</td>\n",
       "      <td>1</td>\n",
       "      <td>[12, 10, 14]</td>\n",
       "      <td>open</td>\n",
       "      <td>{'rendered': '&lt;p&gt;National Democratic Congress ...</td>\n",
       "      <td>2019-05-28T09:03:04</td>\n",
       "      <td>2019-05-28T07:03:04</td>\n",
       "      <td>{'rendered': '&lt;p&gt;National Democratic Congress ...</td>\n",
       "      <td>121832</td>\n",
       "      <td>...</td>\n",
       "      <td>2019-05-28T09:03:04</td>\n",
       "      <td>2019-05-28T07:03:04</td>\n",
       "      <td>open</td>\n",
       "      <td>lungu-not-most-insulted-president-but-most-cor...</td>\n",
       "      <td>publish</td>\n",
       "      <td>False</td>\n",
       "      <td>[]</td>\n",
       "      <td></td>\n",
       "      <td>{'rendered': 'Lungu not most insulted Presiden...</td>\n",
       "      <td>post</td>\n",
       "    </tr>\n",
       "  </tbody>\n",
       "</table>\n",
       "<p>3 rows × 28 columns</p>\n",
       "</div>"
      ],
      "text/plain": [
       "                                               _links amp_validity  author  \\\n",
       "59  {'self': [{'href': 'https://www.zambianobserve...         None       1   \n",
       "52  {'self': [{'href': 'https://www.zambianobserve...         None       1   \n",
       "22  {'self': [{'href': 'https://www.zambianobserve...         None       1   \n",
       "\n",
       "         categories comment_status  \\\n",
       "59  [2, 12, 10, 14]           open   \n",
       "52  [2, 12, 10, 14]           open   \n",
       "22     [12, 10, 14]           open   \n",
       "\n",
       "                                              content                 date  \\\n",
       "59  {'rendered': '<p>Gears Initiatives Zambia has ...  2019-05-27T13:45:57   \n",
       "52  {'rendered': '<p>&nbsp;</p>\n",
       "<p>UPND Youths cou...  2019-05-27T13:51:05   \n",
       "22  {'rendered': '<p>National Democratic Congress ...  2019-05-28T09:03:04   \n",
       "\n",
       "               date_gmt                                            excerpt  \\\n",
       "59  2019-05-27T11:45:57  {'rendered': '<p>Gears Initiatives Zambia has ...   \n",
       "52  2019-05-27T11:51:05  {'rendered': '<p>&nbsp; UPND Youths country wi...   \n",
       "22  2019-05-28T07:03:04  {'rendered': '<p>National Democratic Congress ...   \n",
       "\n",
       "    featured_media  ...             modified         modified_gmt  \\\n",
       "59            2305  ...  2019-05-27T13:46:17  2019-05-27T11:46:17   \n",
       "52          200505  ...  2019-05-27T13:51:05  2019-05-27T11:51:05   \n",
       "22          121832  ...  2019-05-28T09:03:04  2019-05-28T07:03:04   \n",
       "\n",
       "    ping_status                                               slug   status  \\\n",
       "59         open  ecz-called-upon-to-quickly-announce-dates-for-...  publish   \n",
       "52         open  pf-tell-gbm-they-dont-want-him-with-his-vulgar...  publish   \n",
       "22         open  lungu-not-most-insulted-president-but-most-cor...  publish   \n",
       "\n",
       "   sticky tags template                                              title  \\\n",
       "59  False   []           {'rendered': 'ECZ called upon to quickly annou...   \n",
       "52  False   []           {'rendered': 'PF Tell GBM They Don’t Want Him ...   \n",
       "22  False   []           {'rendered': 'Lungu not most insulted Presiden...   \n",
       "\n",
       "    type  \n",
       "59  post  \n",
       "52  post  \n",
       "22  post  \n",
       "\n",
       "[3 rows x 28 columns]"
      ]
     },
     "execution_count": 4,
     "metadata": {},
     "output_type": "execute_result"
    }
   ],
   "source": [
    "data.columns\n",
    "data.sample(3)"
   ]
  },
  {
   "cell_type": "markdown",
   "metadata": {},
   "source": [
    "#####                       Function to clean the contents, excerpts, guid and titles of the posts "
   ]
  },
  {
   "cell_type": "code",
   "execution_count": 5,
   "metadata": {},
   "outputs": [],
   "source": [
    "def clean_posts_data(column_title):\n",
    "    content_list = []\n",
    "\n",
    "    for i in data[column_title]:\n",
    "        data_soup = soup(i['rendered'], 'html.parser')\n",
    "\n",
    "        if bool(data_soup.find()):    # checking if the string has html tags\n",
    "            results = data_soup.find_all('p')\n",
    "            \n",
    "            temp_string = ''\n",
    "            for k in results:\n",
    "                temp_string += (str(k.text))\n",
    "            content_list.append(temp_string)\n",
    "            \n",
    "        else:\n",
    "            results = data_soup.text\n",
    "\n",
    "            temp_string = ''\n",
    "            for k in results:\n",
    "                temp_string += (str(k))\n",
    "            content_list.append(temp_string)\n",
    "            \n",
    "    \n",
    "    return content_list\n",
    "\n",
    "# data.content = content_list"
   ]
  },
  {
   "cell_type": "markdown",
   "metadata": {},
   "source": [
    "###### Cleaning contents of the posts"
   ]
  },
  {
   "cell_type": "code",
   "execution_count": 6,
   "metadata": {},
   "outputs": [],
   "source": [
    "data.content = clean_posts_data('content')"
   ]
  },
  {
   "cell_type": "markdown",
   "metadata": {},
   "source": [
    "##### Cleaning tiltes of the posts"
   ]
  },
  {
   "cell_type": "code",
   "execution_count": 7,
   "metadata": {},
   "outputs": [],
   "source": [
    "data.title = clean_posts_data('title')"
   ]
  },
  {
   "cell_type": "markdown",
   "metadata": {},
   "source": [
    "###### Cleaning 'excerpt' of the posts"
   ]
  },
  {
   "cell_type": "code",
   "execution_count": 8,
   "metadata": {},
   "outputs": [],
   "source": [
    "data.excerpt = clean_posts_data('excerpt')"
   ]
  },
  {
   "cell_type": "markdown",
   "metadata": {},
   "source": [
    "###### The cleaned dataFrame"
   ]
  },
  {
   "cell_type": "code",
   "execution_count": 11,
   "metadata": {},
   "outputs": [
    {
     "data": {
      "text/html": [
       "<div>\n",
       "<style scoped>\n",
       "    .dataframe tbody tr th:only-of-type {\n",
       "        vertical-align: middle;\n",
       "    }\n",
       "\n",
       "    .dataframe tbody tr th {\n",
       "        vertical-align: top;\n",
       "    }\n",
       "\n",
       "    .dataframe thead th {\n",
       "        text-align: right;\n",
       "    }\n",
       "</style>\n",
       "<table border=\"1\" class=\"dataframe\">\n",
       "  <thead>\n",
       "    <tr style=\"text-align: right;\">\n",
       "      <th></th>\n",
       "      <th>categories</th>\n",
       "      <th>content</th>\n",
       "      <th>excerpt</th>\n",
       "      <th>title</th>\n",
       "    </tr>\n",
       "  </thead>\n",
       "  <tbody>\n",
       "    <tr>\n",
       "      <th>18</th>\n",
       "      <td>[2, 12, 10, 14]</td>\n",
       "      <td>Former UPND presidential advisor, Richard Kach...</td>\n",
       "      <td>Former UPND presidential advisor, Richard Kach...</td>\n",
       "      <td>Too Much Tribalism Made Me Ditch Upnd Charges ...</td>\n",
       "    </tr>\n",
       "    <tr>\n",
       "      <th>55</th>\n",
       "      <td>[12, 10, 14]</td>\n",
       "      <td>South Africa President Cyril Ramaphosa is set...</td>\n",
       "      <td>South Africa President Cyril Ramaphosa is se...</td>\n",
       "      <td>Ramaphosa To Reduce Number Of Ministers While ...</td>\n",
       "    </tr>\n",
       "    <tr>\n",
       "      <th>97</th>\n",
       "      <td>[53, 2, 12, 10, 14]</td>\n",
       "      <td>University of Lusaka Student Chokani Sakala w...</td>\n",
       "      <td>University of Lusaka Student Chokani Sakala ...</td>\n",
       "      <td>Sata’s Daughter Told Me She Was Allergic To Co...</td>\n",
       "    </tr>\n",
       "    <tr>\n",
       "      <th>74</th>\n",
       "      <td>[12, 10, 14]</td>\n",
       "      <td>THE PF has done itself a great deal of harm by...</td>\n",
       "      <td>THE PF has done itself a great deal of harm by...</td>\n",
       "      <td>PF IS FACING  A MOUNTAIN…no amount of repressi...</td>\n",
       "    </tr>\n",
       "    <tr>\n",
       "      <th>49</th>\n",
       "      <td>[12, 10, 14]</td>\n",
       "      <td>The recently announced increase in the Monetar...</td>\n",
       "      <td>The recently announced increase in the Monetar...</td>\n",
       "      <td>Zambians to face hard economic times if fiscal...</td>\n",
       "    </tr>\n",
       "  </tbody>\n",
       "</table>\n",
       "</div>"
      ],
      "text/plain": [
       "             categories                                            content  \\\n",
       "18      [2, 12, 10, 14]  Former UPND presidential advisor, Richard Kach...   \n",
       "55         [12, 10, 14]   South Africa President Cyril Ramaphosa is set...   \n",
       "97  [53, 2, 12, 10, 14]   University of Lusaka Student Chokani Sakala w...   \n",
       "74         [12, 10, 14]  THE PF has done itself a great deal of harm by...   \n",
       "49         [12, 10, 14]  The recently announced increase in the Monetar...   \n",
       "\n",
       "                                              excerpt  \\\n",
       "18  Former UPND presidential advisor, Richard Kach...   \n",
       "55    South Africa President Cyril Ramaphosa is se...   \n",
       "97    University of Lusaka Student Chokani Sakala ...   \n",
       "74  THE PF has done itself a great deal of harm by...   \n",
       "49  The recently announced increase in the Monetar...   \n",
       "\n",
       "                                                title  \n",
       "18  Too Much Tribalism Made Me Ditch Upnd Charges ...  \n",
       "55  Ramaphosa To Reduce Number Of Ministers While ...  \n",
       "97  Sata’s Daughter Told Me She Was Allergic To Co...  \n",
       "74  PF IS FACING  A MOUNTAIN…no amount of repressi...  \n",
       "49  Zambians to face hard economic times if fiscal...  "
      ]
     },
     "execution_count": 11,
     "metadata": {},
     "output_type": "execute_result"
    }
   ],
   "source": [
    "data = data[['categories','content','excerpt','title']] #drop other columns\n",
    "data.sample(5)"
   ]
  },
  {
   "cell_type": "markdown",
   "metadata": {},
   "source": [
    "##### Exporting to Excel file and it ('Excel file') will be save in the folder where the jupyter file is"
   ]
  },
  {
   "cell_type": "code",
   "execution_count": 10,
   "metadata": {},
   "outputs": [],
   "source": [
    "# writer = pd.ExcelWriter('zambianobserver_posts.xlsx')\n",
    "# data.to_excel(writer,sheet_name = 'Posts', engine='xlsxwriter')\n",
    "# writer.save()"
   ]
  }
 ],
 "metadata": {
  "kernelspec": {
   "display_name": "Python 3",
   "language": "python",
   "name": "python3"
  },
  "language_info": {
   "codemirror_mode": {
    "name": "ipython",
    "version": 3
   },
   "file_extension": ".py",
   "mimetype": "text/x-python",
   "name": "python",
   "nbconvert_exporter": "python",
   "pygments_lexer": "ipython3",
   "version": "3.7.3"
  }
 },
 "nbformat": 4,
 "nbformat_minor": 2
}
